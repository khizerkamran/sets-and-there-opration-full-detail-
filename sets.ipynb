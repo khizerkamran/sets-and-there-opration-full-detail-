{
 "cells": [
  {
   "cell_type": "code",
   "execution_count": 4,
   "metadata": {},
   "outputs": [
    {
     "name": "stdout",
     "output_type": "stream",
     "text": [
      "{'naick', 'khijo', 'my', 'name', 'khijjo', 'is'}\n"
     ]
    }
   ],
   "source": [
    "#sets do not repetet the element again\n",
    "print(set('my name is khijo naick name is my khijjo'.split()))"
   ]
  },
  {
   "cell_type": "code",
   "execution_count": 1,
   "metadata": {},
   "outputs": [
    {
     "name": "stdout",
     "output_type": "stream",
     "text": [
      "['khizer', 'kamran', 'saiam', 'salah']\n",
      "['x', 'z']\n"
     ]
    }
   ],
   "source": [
    "#how to make sets👇 we have o make a array in the sets and put elemnts init\n",
    "a=(['khizer','kamran','saiam','salah','x'])\n",
    "print(a)\n",
    "b=(['x','z'])\n",
    "print(b)"
   ]
  },
  {
   "cell_type": "code",
   "execution_count": 4,
   "metadata": {},
   "outputs": [],
   "source": [
    "#how to take common intersection\n",
    "#common:elements that are reapeted again in the sets\n",
    "#Intersection:print repeted elements"
   ]
  },
  {
   "cell_type": "code",
   "execution_count": 5,
   "metadata": {},
   "outputs": [],
   "source": [
    "#how to take differences\n",
    "#differences:\n",
    "#when the common elements print the intersection so differences print the elements that are left from the itersection\n",
    "#if we put a differenes b so just set a will print its own differences"
   ]
  },
  {
   "cell_type": "code",
   "execution_count": 6,
   "metadata": {},
   "outputs": [],
   "source": [
    "#how to make symetric differences\n",
    "#symetric differences: if we put symetric differences so it will combine the differens of set a and set b"
   ]
  },
  {
   "cell_type": "code",
   "execution_count": 8,
   "metadata": {},
   "outputs": [],
   "source": [
    "#how to take union\n",
    "#union:it will murge(mix,plus,+) the sets and print it without repeting it self(do not repetet the element again)"
   ]
  },
  {
   "cell_type": "code",
   "execution_count": 9,
   "metadata": {},
   "outputs": [],
   "source": [
    "#how to update the set\n",
    "#update is form of union both murge(mix,plus,+)the set"
   ]
  },
  {
   "cell_type": "code",
   "execution_count": 10,
   "metadata": {},
   "outputs": [],
   "source": [
    "#how to take lenth\n",
    "#lenth key word is len and len tell as that how many elements are there in the set"
   ]
  },
  {
   "cell_type": "code",
   "execution_count": 12,
   "metadata": {},
   "outputs": [],
   "source": [
    "# we can do all numpy operation(pop,remove,del,clear)\n",
    "#pop:it will remove 1 element\n",
    "#remove:we have to give the index to remove any element\n",
    "#del:delet the element\n",
    "#clear:remove all the elements"
   ]
  },
  {
   "cell_type": "code",
   "execution_count": 13,
   "metadata": {},
   "outputs": [],
   "source": [
    "#how to creat superset\n",
    "#superset:print false or true\n",
    "#true:when all the elements of set b repeted in set a\n",
    "#false:when all the elements of set b do not repeted in set a"
   ]
  },
  {
   "cell_type": "code",
   "execution_count": 15,
   "metadata": {},
   "outputs": [],
   "source": [
    "#how to creat isdisjoin\n",
    "#isdisjoint(dis simillar):print false or true\n",
    "#false:if the element of set b in set a\n",
    "#true:if the element of set b dosen't have in set a"
   ]
  },
  {
   "cell_type": "code",
   "execution_count": 16,
   "metadata": {},
   "outputs": [],
   "source": [
    "# how to creat subset\n",
    "#subset:print false or true\n",
    "#false:if set b elements are not in set a\n",
    "#true:if set b elements are in set a"
   ]
  },
  {
   "cell_type": "code",
   "execution_count": 17,
   "metadata": {},
   "outputs": [],
   "source": [
    "#how to take common intersection\n",
    "#common:are that elements reapeat in both of the sets\n",
    "#intersection:to print common elements\n"
   ]
  },
  {
   "cell_type": "code",
   "execution_count": null,
   "metadata": {},
   "outputs": [],
   "source": []
  }
 ],
 "metadata": {
  "kernelspec": {
   "display_name": "Python 3",
   "language": "python",
   "name": "python3"
  },
  "language_info": {
   "codemirror_mode": {
    "name": "ipython",
    "version": 3
   },
   "file_extension": ".py",
   "mimetype": "text/x-python",
   "name": "python",
   "nbconvert_exporter": "python",
   "pygments_lexer": "ipython3",
   "version": "3.8.6"
  }
 },
 "nbformat": 4,
 "nbformat_minor": 4
}
